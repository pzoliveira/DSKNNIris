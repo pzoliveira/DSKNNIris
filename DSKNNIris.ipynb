{
  "nbformat": 4,
  "nbformat_minor": 0,
  "metadata": {
    "colab": {
      "provenance": [],
      "authorship_tag": "ABX9TyOBsV6HkDLk6TjjpyfT2CCA",
      "include_colab_link": true
    },
    "kernelspec": {
      "name": "python3",
      "display_name": "Python 3"
    },
    "language_info": {
      "name": "python"
    }
  },
  "cells": [
    {
      "cell_type": "markdown",
      "metadata": {
        "id": "view-in-github",
        "colab_type": "text"
      },
      "source": [
        "<a href=\"https://colab.research.google.com/github/pzoliveira/DSKNNIris/blob/main/DSKNNIris.ipynb\" target=\"_parent\"><img src=\"https://colab.research.google.com/assets/colab-badge.svg\" alt=\"Open In Colab\"/></a>"
      ]
    },
    {
      "cell_type": "markdown",
      "source": [
        "# Importing the Data"
      ],
      "metadata": {
        "id": "nQX48pYMh0qq"
      }
    },
    {
      "cell_type": "code",
      "execution_count": 1,
      "metadata": {
        "id": "t9Fx_5E7hxoZ"
      },
      "outputs": [],
      "source": [
        "import pickle"
      ]
    },
    {
      "cell_type": "code",
      "source": [
        "with open('credito.pkl', 'rb') as f:\n",
        "  X_credito_treino, y_credito_treino, X_credito_teste, y_credito_teste = pickle.load(f)"
      ],
      "metadata": {
        "id": "sLGiq4HNh505"
      },
      "execution_count": 2,
      "outputs": []
    },
    {
      "cell_type": "code",
      "source": [
        "X_credito_treino.shape, y_credito_treino.shape, X_credito_teste.shape, y_credito_teste.shape"
      ],
      "metadata": {
        "colab": {
          "base_uri": "https://localhost:8080/"
        },
        "id": "Y6cr8HrqiGzs",
        "outputId": "cd9aa08c-3a28-4578-b16a-9aafd343a325"
      },
      "execution_count": 3,
      "outputs": [
        {
          "output_type": "execute_result",
          "data": {
            "text/plain": [
              "((22806, 3), (22806,), (9775, 3), (9775,))"
            ]
          },
          "metadata": {},
          "execution_count": 3
        }
      ]
    }
  ]
}